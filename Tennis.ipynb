{
 "cells": [
  {
   "cell_type": "markdown",
   "id": "9535f14b",
   "metadata": {
    "vscode": {
     "languageId": "latex"
    }
   },
   "source": [
    "# Tennis Machine Learning Model: \n",
    "Training a model on tennis matches to predict future ones."
   ]
  },
  {
   "cell_type": "markdown",
   "id": "32a0d833",
   "metadata": {},
   "source": [
    "## Preprocess data"
   ]
  },
  {
   "cell_type": "code",
   "execution_count": null,
   "id": "09c13e89",
   "metadata": {},
   "outputs": [],
   "source": [
    "import pandas as pd\n",
    "from glob import glob\n",
    "\n",
    "# adjust path or filenames to where you saved the CSVs\n",
    "files = sorted(glob(\"data/atp_matches_*.csv\"))[:5]  # first 5 years as example\n",
    "dfs = [pd.read_csv(f) for f in files]\n",
    "df = pd.concat(dfs, ignore_index=True)\n",
    "\n",
    "# Quick peek\n",
    "print(\"Rows:\", len(df))\n",
    "print(\"Columns:\", df.columns.tolist())\n",
    "display(df.head())\n",
    "\n",
    "# Make sure date is parsed (Sackmann uses YYYYMMDD integer format)\n",
    "if 'tourney_date' in df.columns:\n",
    "    df['tourney_date'] = pd.to_datetime(df['tourney_date'], format='%Y%m%d', errors='coerce')\n",
    "else:\n",
    "    # fallback\n",
    "    df['tourney_date'] = pd.to_datetime(df['date'], errors='coerce')\n",
    "\n",
    "print(df['tourney_date'].min(), \"->\", df['tourney_date'].max())"
   ]
  },
  {
   "cell_type": "code",
   "execution_count": 1,
   "id": "5a73d817",
   "metadata": {},
   "outputs": [],
   "source": [
    "import tensorflow as tf\n",
    "import numpy as np\n",
    "from tensorflow.keras.models import Sequential\n",
    "from tensorflow.keras.layers import Dense, Flatten, Conv2D, MaxPooling2D\n"
   ]
  }
 ],
 "metadata": {
  "kernelspec": {
   "display_name": "Python 3",
   "language": "python",
   "name": "python3"
  },
  "language_info": {
   "codemirror_mode": {
    "name": "ipython",
    "version": 3
   },
   "file_extension": ".py",
   "mimetype": "text/x-python",
   "name": "python",
   "nbconvert_exporter": "python",
   "pygments_lexer": "ipython3",
   "version": "3.10.2"
  }
 },
 "nbformat": 4,
 "nbformat_minor": 5
}
